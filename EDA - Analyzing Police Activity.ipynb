{
 "cells": [
  {
   "cell_type": "markdown",
   "id": "82e6a5e6-f9b4-4067-97ae-83d56e255aa6",
   "metadata": {},
   "source": [
    "# Dataset: Stanford Open Policing Project"
   ]
  },
  {
   "cell_type": "markdown",
   "id": "f1e3bb02-8961-4fea-9da9-9fc6bcc10108",
   "metadata": {},
   "source": [
    "## Get dataset from here: https://openpolicing.stanford.edu/data/"
   ]
  },
  {
   "cell_type": "code",
   "execution_count": 1,
   "id": "5a437784-e111-41c4-ac04-1a100cc19158",
   "metadata": {
    "execution": {
     "iopub.execute_input": "2022-06-10T05:19:01.073504Z",
     "iopub.status.busy": "2022-06-10T05:19:01.073187Z",
     "iopub.status.idle": "2022-06-10T05:19:01.499699Z",
     "shell.execute_reply": "2022-06-10T05:19:01.499259Z",
     "shell.execute_reply.started": "2022-06-10T05:19:01.073421Z"
    },
    "tags": []
   },
   "outputs": [
    {
     "name": "stdout",
     "output_type": "stream",
     "text": [
      "    stop_date stop_time  county_name driver_gender  driver_age_raw  \\\n",
      "0  2005-01-02     01:55          NaN             M          1985.0   \n",
      "1  2005-01-18     08:15          NaN             M          1965.0   \n",
      "2  2005-01-23     23:15          NaN             M          1972.0   \n",
      "3  2005-02-20     17:15          NaN             M          1986.0   \n",
      "4  2005-03-14     10:00          NaN             F          1984.0   \n",
      "\n",
      "   driver_age driver_race     violation_raw violation  search_conducted  \\\n",
      "0        20.0       White          Speeding  Speeding             False   \n",
      "1        40.0       White          Speeding  Speeding             False   \n",
      "2        33.0       White          Speeding  Speeding             False   \n",
      "3        19.0       White  Call for Service     Other             False   \n",
      "4        21.0       White          Speeding  Speeding             False   \n",
      "\n",
      "  search_type   stop_outcome is_arrested stop_duration  drugs_related_stop  \n",
      "0         NaN       Citation       False      0-15 Min               False  \n",
      "1         NaN       Citation       False      0-15 Min               False  \n",
      "2         NaN       Citation       False      0-15 Min               False  \n",
      "3         NaN  Arrest Driver        True     16-30 Min               False  \n",
      "4         NaN       Citation       False      0-15 Min               False  \n",
      "stop_date                 0\n",
      "stop_time                 0\n",
      "county_name           91741\n",
      "driver_gender          5335\n",
      "driver_age_raw         5327\n",
      "driver_age             5621\n",
      "driver_race            5333\n",
      "violation_raw          5333\n",
      "violation              5333\n",
      "search_conducted          0\n",
      "search_type           88545\n",
      "stop_outcome           5333\n",
      "is_arrested            5333\n",
      "stop_duration          5333\n",
      "drugs_related_stop        0\n",
      "dtype: int64\n"
     ]
    }
   ],
   "source": [
    "# Import the pandas library as pd\n",
    "import pandas as pd\n",
    "\n",
    "# Read 'police.csv' into a DataFrame named ri\n",
    "ri = pd.read_csv('police.csv')\n",
    "\n",
    "# Examine the head of the DataFrame\n",
    "print(ri.head())\n",
    "\n",
    "# Count the number of missing values in each column\n",
    "print(ri.isnull().sum())"
   ]
  },
  {
   "cell_type": "code",
   "execution_count": 2,
   "id": "b385d59d-048d-4d62-9c39-61a62f4fb354",
   "metadata": {
    "execution": {
     "iopub.execute_input": "2022-06-10T05:19:01.500571Z",
     "iopub.status.busy": "2022-06-10T05:19:01.500373Z",
     "iopub.status.idle": "2022-06-10T05:19:01.510628Z",
     "shell.execute_reply": "2022-06-10T05:19:01.510109Z",
     "shell.execute_reply.started": "2022-06-10T05:19:01.500554Z"
    },
    "tags": []
   },
   "outputs": [
    {
     "name": "stdout",
     "output_type": "stream",
     "text": [
      "(91741, 15)\n",
      "(91741, 14)\n"
     ]
    }
   ],
   "source": [
    "# Examine the shape of the DataFrame\n",
    "print(ri.shape)\n",
    "\n",
    "# Drop the 'county_name' and 'state' columns\n",
    "ri.drop(['county_name'], axis='columns', inplace=True)\n",
    "\n",
    "# Examine the shape of the DataFrame (again)\n",
    "print(ri.shape)"
   ]
  },
  {
   "cell_type": "code",
   "execution_count": 3,
   "id": "80b407e0-b8d1-4153-a3a4-d31e001ee73e",
   "metadata": {
    "execution": {
     "iopub.execute_input": "2022-06-10T05:19:01.511541Z",
     "iopub.status.busy": "2022-06-10T05:19:01.511424Z",
     "iopub.status.idle": "2022-06-10T05:19:01.705485Z",
     "shell.execute_reply": "2022-06-10T05:19:01.705179Z",
     "shell.execute_reply.started": "2022-06-10T05:19:01.511526Z"
    },
    "tags": []
   },
   "outputs": [
    {
     "name": "stdout",
     "output_type": "stream",
     "text": [
      "stop_date                 0\n",
      "stop_time                 0\n",
      "driver_gender          5335\n",
      "driver_age_raw         5327\n",
      "driver_age             5621\n",
      "driver_race            5333\n",
      "violation_raw          5333\n",
      "violation              5333\n",
      "search_conducted          0\n",
      "search_type           88545\n",
      "stop_outcome           5333\n",
      "is_arrested            5333\n",
      "stop_duration          5333\n",
      "drugs_related_stop        0\n",
      "dtype: int64\n",
      "stop_date                 0\n",
      "stop_time                 0\n",
      "driver_gender             0\n",
      "driver_age_raw            1\n",
      "driver_age              293\n",
      "driver_race               0\n",
      "violation_raw             0\n",
      "violation                 0\n",
      "search_conducted          0\n",
      "search_type           83210\n",
      "stop_outcome              0\n",
      "is_arrested               0\n",
      "stop_duration             0\n",
      "drugs_related_stop        0\n",
      "dtype: int64\n",
      "(86406, 14)\n"
     ]
    }
   ],
   "source": [
    "# Count the number of missing values in each column\n",
    "print(ri.isnull().sum())\n",
    "\n",
    "# Drop all rows that are missing 'driver_gender'\n",
    "ri.dropna(subset=['driver_gender'], inplace=True)\n",
    "\n",
    "# Count the number of missing values in each column (again)\n",
    "print(ri.isna().sum())\n",
    "\n",
    "# Examine the shape of the DataFrame\n",
    "print(ri.shape)"
   ]
  },
  {
   "cell_type": "markdown",
   "id": "169be620-dcdf-4dcf-bfbf-4a142e781d34",
   "metadata": {},
   "source": [
    "### We dropped around 5,000 rows, which is a small fraction of the dataset, and now only one column remains with any missing values."
   ]
  },
  {
   "cell_type": "code",
   "execution_count": 4,
   "id": "c6d79008-64eb-4579-a307-8a3de137ab40",
   "metadata": {
    "execution": {
     "iopub.execute_input": "2022-06-10T05:19:01.706623Z",
     "iopub.status.busy": "2022-06-10T05:19:01.706481Z",
     "iopub.status.idle": "2022-06-10T05:19:01.709869Z",
     "shell.execute_reply": "2022-06-10T05:19:01.709502Z",
     "shell.execute_reply.started": "2022-06-10T05:19:01.706608Z"
    }
   },
   "outputs": [
    {
     "name": "stdout",
     "output_type": "stream",
     "text": [
      "stop_date              object\n",
      "stop_time              object\n",
      "driver_gender          object\n",
      "driver_age_raw        float64\n",
      "driver_age            float64\n",
      "driver_race            object\n",
      "violation_raw          object\n",
      "violation              object\n",
      "search_conducted         bool\n",
      "search_type            object\n",
      "stop_outcome           object\n",
      "is_arrested            object\n",
      "stop_duration          object\n",
      "drugs_related_stop       bool\n",
      "dtype: object\n"
     ]
    }
   ],
   "source": [
    "print(ri.dtypes)"
   ]
  },
  {
   "cell_type": "code",
   "execution_count": 5,
   "id": "83dbbe9f-2c67-41d1-95df-c573a64c4320",
   "metadata": {
    "execution": {
     "iopub.execute_input": "2022-06-10T05:19:01.710542Z",
     "iopub.status.busy": "2022-06-10T05:19:01.710437Z",
     "iopub.status.idle": "2022-06-10T05:19:01.718002Z",
     "shell.execute_reply": "2022-06-10T05:19:01.717457Z",
     "shell.execute_reply.started": "2022-06-10T05:19:01.710527Z"
    }
   },
   "outputs": [
    {
     "name": "stdout",
     "output_type": "stream",
     "text": [
      "object\n",
      "bool\n"
     ]
    }
   ],
   "source": [
    "# Examine the head of the 'is_arrested' column\n",
    "print(ri.is_arrested.dtype)\n",
    "\n",
    "# Change the data type of 'is_arrested' to 'bool'\n",
    "ri['is_arrested'] = ri.is_arrested.astype('bool')\n",
    "\n",
    "# Check the data type of 'is_arrested' \n",
    "print(ri.is_arrested.dtype)"
   ]
  },
  {
   "cell_type": "code",
   "execution_count": 6,
   "id": "e0be4a19-0893-44de-b89c-1733365f40be",
   "metadata": {
    "execution": {
     "iopub.execute_input": "2022-06-10T05:19:01.719130Z",
     "iopub.status.busy": "2022-06-10T05:19:01.718954Z",
     "iopub.status.idle": "2022-06-10T05:19:01.750770Z",
     "shell.execute_reply": "2022-06-10T05:19:01.750386Z",
     "shell.execute_reply.started": "2022-06-10T05:19:01.719110Z"
    },
    "tags": []
   },
   "outputs": [
    {
     "name": "stdout",
     "output_type": "stream",
     "text": [
      "stop_date                     object\n",
      "stop_time                     object\n",
      "driver_gender                 object\n",
      "driver_age_raw               float64\n",
      "driver_age                   float64\n",
      "driver_race                   object\n",
      "violation_raw                 object\n",
      "violation                     object\n",
      "search_conducted                bool\n",
      "search_type                   object\n",
      "stop_outcome                  object\n",
      "is_arrested                     bool\n",
      "stop_duration                 object\n",
      "drugs_related_stop              bool\n",
      "stop_datetime         datetime64[ns]\n",
      "dtype: object\n"
     ]
    }
   ],
   "source": [
    "# Creating timestamp column from 2 existing columns and casting it to timestamp so we can utilize the datatime methods efficiently\n",
    "\n",
    "# Concatenate 'stop_date' and 'stop_time' (separated by a space)\n",
    "combined = ri.stop_date.str.cat(ri.stop_time, sep=\" \")\n",
    "\n",
    "# Convert 'combined' to datetime format\n",
    "ri['stop_datetime'] = pd.to_datetime(combined)\n",
    "\n",
    "# Examine the data types of the DataFrame\n",
    "print(ri.dtypes)"
   ]
  },
  {
   "cell_type": "code",
   "execution_count": 7,
   "id": "d594c7d8-b3b2-4b3a-a8d8-99c3623a30a2",
   "metadata": {
    "execution": {
     "iopub.execute_input": "2022-06-10T05:19:01.751447Z",
     "iopub.status.busy": "2022-06-10T05:19:01.751337Z",
     "iopub.status.idle": "2022-06-10T05:19:01.756039Z",
     "shell.execute_reply": "2022-06-10T05:19:01.755613Z",
     "shell.execute_reply.started": "2022-06-10T05:19:01.751432Z"
    }
   },
   "outputs": [
    {
     "name": "stdout",
     "output_type": "stream",
     "text": [
      "DatetimeIndex(['2005-01-02 01:55:00', '2005-01-18 08:15:00',\n",
      "               '2005-01-23 23:15:00', '2005-02-20 17:15:00',\n",
      "               '2005-03-14 10:00:00', '2005-03-23 09:45:00',\n",
      "               '2005-04-01 17:30:00', '2005-06-06 13:20:00',\n",
      "               '2005-07-13 10:15:00', '2005-07-13 15:45:00',\n",
      "               ...\n",
      "               '2015-12-31 16:38:00', '2015-12-31 19:44:00',\n",
      "               '2015-12-31 19:55:00', '2015-12-31 20:20:00',\n",
      "               '2015-12-31 20:25:00', '2015-12-31 20:27:00',\n",
      "               '2015-12-31 20:35:00', '2015-12-31 20:45:00',\n",
      "               '2015-12-31 21:42:00', '2015-12-31 22:46:00'],\n",
      "              dtype='datetime64[ns]', name='stop_datetime', length=86406, freq=None)\n",
      "Index(['stop_date', 'stop_time', 'driver_gender', 'driver_age_raw',\n",
      "       'driver_age', 'driver_race', 'violation_raw', 'violation',\n",
      "       'search_conducted', 'search_type', 'stop_outcome', 'is_arrested',\n",
      "       'stop_duration', 'drugs_related_stop'],\n",
      "      dtype='object')\n"
     ]
    }
   ],
   "source": [
    "# Set 'stop_datetime' as the index\n",
    "ri.set_index(keys='stop_datetime', inplace=True)\n",
    "\n",
    "# Examine the index\n",
    "print(ri.index)\n",
    "\n",
    "# Examine the columns\n",
    "print(ri.columns)"
   ]
  },
  {
   "cell_type": "markdown",
   "id": "a45d7a6d-e838-444a-b903-01b9c8cf3386",
   "metadata": {
    "execution": {
     "iopub.execute_input": "2022-06-09T10:40:05.733796Z",
     "iopub.status.busy": "2022-06-09T10:40:05.733163Z",
     "iopub.status.idle": "2022-06-09T10:40:05.736928Z",
     "shell.execute_reply": "2022-06-09T10:40:05.736482Z",
     "shell.execute_reply.started": "2022-06-09T10:40:05.733762Z"
    }
   },
   "source": [
    "## Question: Do the genders commit different violations?"
   ]
  },
  {
   "cell_type": "code",
   "execution_count": 8,
   "id": "7e14819b-313c-4a2e-b94b-b4fbbaceeaae",
   "metadata": {
    "execution": {
     "iopub.execute_input": "2022-06-10T05:19:01.756968Z",
     "iopub.status.busy": "2022-06-10T05:19:01.756791Z",
     "iopub.status.idle": "2022-06-10T05:19:01.763703Z",
     "shell.execute_reply": "2022-06-10T05:19:01.763182Z",
     "shell.execute_reply.started": "2022-06-10T05:19:01.756946Z"
    },
    "tags": []
   },
   "outputs": [
    {
     "name": "stdout",
     "output_type": "stream",
     "text": [
      "Speeding               0.560852\n",
      "Moving violation       0.187765\n",
      "Equipment              0.127537\n",
      "Other                  0.049962\n",
      "Registration/plates    0.039719\n",
      "Seat belt              0.034164\n",
      "Name: violation, dtype: float64\n"
     ]
    }
   ],
   "source": [
    "# Count the unique values in 'violation'\n",
    "# print(ri['violation'].value_counts())\n",
    "\n",
    "# Express the violations counts as proportions\n",
    "print(ri['violation'].value_counts(normalize=True))"
   ]
  },
  {
   "cell_type": "markdown",
   "id": "d9b64732-7827-4e09-8608-46442e9d58fd",
   "metadata": {},
   "source": [
    "### More than half of all violations are for speeding, followed by other moving violations and equipment violations."
   ]
  },
  {
   "cell_type": "code",
   "execution_count": 9,
   "id": "508603e6-70bf-4201-91d9-4ca2f7687f41",
   "metadata": {
    "execution": {
     "iopub.execute_input": "2022-06-10T05:19:01.764468Z",
     "iopub.status.busy": "2022-06-10T05:19:01.764291Z",
     "iopub.status.idle": "2022-06-10T05:19:01.790675Z",
     "shell.execute_reply": "2022-06-10T05:19:01.790200Z",
     "shell.execute_reply.started": "2022-06-10T05:19:01.764447Z"
    },
    "tags": []
   },
   "outputs": [
    {
     "name": "stdout",
     "output_type": "stream",
     "text": [
      "Violations By Female drivers: \n",
      "Speeding               0.658500\n",
      "Moving violation       0.136277\n",
      "Equipment              0.105780\n",
      "Registration/plates    0.043086\n",
      "Other                  0.029348\n",
      "Seat belt              0.027009\n",
      "Name: violation, dtype: float64\n",
      "\n",
      "\n",
      "Violations By Male drivers: \n",
      "Speeding               0.524350\n",
      "Moving violation       0.207012\n",
      "Equipment              0.135671\n",
      "Other                  0.057668\n",
      "Registration/plates    0.038461\n",
      "Seat belt              0.036839\n",
      "Name: violation, dtype: float64\n"
     ]
    }
   ],
   "source": [
    "# Create a DataFrame of female drivers\n",
    "female = ri[ri['driver_gender']=='F']\n",
    "\n",
    "# Create a DataFrame of male drivers\n",
    "male = ri[ri['driver_gender']=='M']\n",
    "\n",
    "# Compute the violations by female drivers (as proportions)\n",
    "print(\"Violations By Female drivers: \")\n",
    "print(female.violation.value_counts(normalize=True))\n",
    "\n",
    "# Compute the violations by male drivers (as proportions)\n",
    "print(\"\\n\\nViolations By Male drivers: \")\n",
    "print(male.violation.value_counts(normalize=True))"
   ]
  },
  {
   "cell_type": "markdown",
   "id": "52e3c9e8-775b-4ea3-84a6-1b7d97d51886",
   "metadata": {},
   "source": [
    "About two-thirds of female traffic stops are for speeding, whereas stops of males are more balanced among the six categories. This doesn't mean that females speed more often than males, however, since we didn't take into account the number of stops or drivers."
   ]
  },
  {
   "cell_type": "markdown",
   "id": "4dd01616-bc0e-418c-a720-602c7b5a25fa",
   "metadata": {},
   "source": [
    "### Question: Does gender affect who gets a ticket for speeding?"
   ]
  },
  {
   "cell_type": "code",
   "execution_count": 10,
   "id": "35f3dfd7-a237-4277-8a25-712deeb813f3",
   "metadata": {
    "execution": {
     "iopub.execute_input": "2022-06-10T05:19:01.791422Z",
     "iopub.status.busy": "2022-06-10T05:19:01.791273Z",
     "iopub.status.idle": "2022-06-10T05:19:01.817433Z",
     "shell.execute_reply": "2022-06-10T05:19:01.816976Z",
     "shell.execute_reply.started": "2022-06-10T05:19:01.791406Z"
    },
    "tags": []
   },
   "outputs": [
    {
     "name": "stdout",
     "output_type": "stream",
     "text": [
      "Female Speeding violations(in %):\n",
      "Citation            0.952590\n",
      "Warning             0.039917\n",
      "Arrest Driver       0.005361\n",
      "Arrest Passenger    0.000840\n",
      "N/D                 0.000840\n",
      "No Action           0.000452\n",
      "Name: stop_outcome, dtype: float64\n",
      "\n",
      "\n",
      "Male Speeding violations(in %):\n",
      "Citation            0.946208\n",
      "Warning             0.035265\n",
      "Arrest Driver       0.015161\n",
      "Arrest Passenger    0.001243\n",
      "N/D                 0.001061\n",
      "No Action           0.001061\n",
      "Name: stop_outcome, dtype: float64\n"
     ]
    }
   ],
   "source": [
    "# Create a DataFrame of female drivers stopped for speeding\n",
    "female_and_speeding = ri[(ri.driver_gender=='F') & (ri.violation=='Speeding')]\n",
    "\n",
    "# Create a DataFrame of male drivers stopped for speeding\n",
    "male_and_speeding = ri[(ri.driver_gender=='M') & (ri.violation=='Speeding')]\n",
    "\n",
    "# Compute the stop outcomes for female drivers (as proportions)\n",
    "print(\"Female Speeding violations(in %):\")\n",
    "print(female_and_speeding.stop_outcome.value_counts(normalize=True))\n",
    "\n",
    "# Compute the stop outcomes for male drivers (as proportions)\n",
    "print(\"\\n\\nMale Speeding violations(in %):\")\n",
    "print(male_and_speeding.stop_outcome.value_counts(normalize=True))"
   ]
  },
  {
   "cell_type": "markdown",
   "id": "7c3b8088-f2ff-4880-aaa5-70f6df5a955c",
   "metadata": {},
   "source": [
    "The numbers are similar for males and females: about 95% of stops for speeding result in a ticket. Thus, the data fails to show that gender has an impact on who gets a ticket for speeding."
   ]
  },
  {
   "cell_type": "markdown",
   "id": "8b6055a2-4602-45bb-851c-b4611a2399c1",
   "metadata": {},
   "source": [
    "### Question: Does gender affect whose vehicle is searched?"
   ]
  },
  {
   "cell_type": "code",
   "execution_count": 11,
   "id": "c8d04d1e-331d-4405-b208-dae93258e529",
   "metadata": {
    "execution": {
     "iopub.execute_input": "2022-06-10T05:19:01.818157Z",
     "iopub.status.busy": "2022-06-10T05:19:01.818016Z",
     "iopub.status.idle": "2022-06-10T05:19:01.822469Z",
     "shell.execute_reply": "2022-06-10T05:19:01.822066Z",
     "shell.execute_reply.started": "2022-06-10T05:19:01.818142Z"
    }
   },
   "outputs": [
    {
     "name": "stdout",
     "output_type": "stream",
     "text": [
      "bool\n",
      "False    0.963012\n",
      "True     0.036988\n",
      "Name: search_conducted, dtype: float64\n",
      "0.036988172117677014\n"
     ]
    }
   ],
   "source": [
    "# Check the data type of 'search_conducted'\n",
    "print(ri.search_conducted.dtype)\n",
    "\n",
    "# Calculate the search rate by counting the values\n",
    "print(ri.search_conducted.value_counts(normalize=True))\n",
    "\n",
    "# Calculate the search rate by taking the mean\n",
    "print(ri.search_conducted.mean())"
   ]
  },
  {
   "cell_type": "code",
   "execution_count": 12,
   "id": "7b89acc7-6e5c-4587-81bf-43ed39ea3330",
   "metadata": {
    "execution": {
     "iopub.execute_input": "2022-06-10T05:19:01.823141Z",
     "iopub.status.busy": "2022-06-10T05:19:01.823021Z",
     "iopub.status.idle": "2022-06-10T05:19:01.830412Z",
     "shell.execute_reply": "2022-06-10T05:19:01.830003Z",
     "shell.execute_reply.started": "2022-06-10T05:19:01.823126Z"
    }
   },
   "outputs": [
    {
     "name": "stdout",
     "output_type": "stream",
     "text": [
      "driver_gender\n",
      "F    0.020033\n",
      "M    0.043326\n",
      "Name: search_conducted, dtype: float64\n"
     ]
    }
   ],
   "source": [
    "# Calculate the search rate for both groups\n",
    "print(ri.groupby(ri.driver_gender).search_conducted.mean())"
   ]
  },
  {
   "cell_type": "markdown",
   "id": "de15b976-5ab3-40ed-b4b3-b40aaa12fdcd",
   "metadata": {},
   "source": [
    "Male drivers are searched more than twice as often as female drivers. Why might this be?"
   ]
  },
  {
   "cell_type": "code",
   "execution_count": 13,
   "id": "7512a54a-0f1e-438d-8578-35b9db61725d",
   "metadata": {
    "execution": {
     "iopub.execute_input": "2022-06-10T05:19:01.832401Z",
     "iopub.status.busy": "2022-06-10T05:19:01.832238Z",
     "iopub.status.idle": "2022-06-10T05:19:01.846134Z",
     "shell.execute_reply": "2022-06-10T05:19:01.845555Z",
     "shell.execute_reply.started": "2022-06-10T05:19:01.832383Z"
    }
   },
   "outputs": [
    {
     "name": "stdout",
     "output_type": "stream",
     "text": [
      "violation            driver_gender\n",
      "Equipment            F                0.042622\n",
      "                     M                0.070081\n",
      "Moving violation     F                0.036205\n",
      "                     M                0.059831\n",
      "Other                F                0.056522\n",
      "                     M                0.047146\n",
      "Registration/plates  F                0.066140\n",
      "                     M                0.110376\n",
      "Seat belt            F                0.012598\n",
      "                     M                0.037980\n",
      "Speeding             F                0.008720\n",
      "                     M                0.024925\n",
      "Name: search_conducted, dtype: float64\n"
     ]
    }
   ],
   "source": [
    "# Odering to group by violation before gender\n",
    "print(ri.groupby(['violation','driver_gender']).search_conducted.mean())"
   ]
  },
  {
   "cell_type": "markdown",
   "id": "e4d1ed16-e4bf-49c1-a90e-50e84d386c7b",
   "metadata": {},
   "source": [
    "For all types of violations, the search rate is higher for males than for females, disproving our hypothesis."
   ]
  },
  {
   "cell_type": "markdown",
   "id": "ae054471-ff2e-45fa-b642-4d688ffd7b5b",
   "metadata": {
    "execution": {
     "iopub.execute_input": "2022-06-09T11:46:03.185162Z",
     "iopub.status.busy": "2022-06-09T11:46:03.184878Z",
     "iopub.status.idle": "2022-06-09T11:46:03.189291Z",
     "shell.execute_reply": "2022-06-09T11:46:03.188157Z",
     "shell.execute_reply.started": "2022-06-09T11:46:03.185132Z"
    }
   },
   "source": [
    "### Question: Does gender affect who is frisked during a search?"
   ]
  },
  {
   "cell_type": "code",
   "execution_count": 14,
   "id": "5d03c44d-49bc-4dc6-9ffb-633ad27ee6f9",
   "metadata": {
    "execution": {
     "iopub.execute_input": "2022-06-10T05:19:01.847151Z",
     "iopub.status.busy": "2022-06-10T05:19:01.846896Z",
     "iopub.status.idle": "2022-06-10T05:19:01.872644Z",
     "shell.execute_reply": "2022-06-10T05:19:01.872106Z",
     "shell.execute_reply.started": "2022-06-10T05:19:01.847116Z"
    }
   },
   "outputs": [
    {
     "name": "stdout",
     "output_type": "stream",
     "text": [
      "Incident to Arrest                                          1219\n",
      "Probable Cause                                               891\n",
      "Inventory                                                    220\n",
      "Reasonable Suspicion                                         197\n",
      "Protective Frisk                                             161\n",
      "Incident to Arrest,Inventory                                 129\n",
      "Incident to Arrest,Probable Cause                            106\n",
      "Probable Cause,Reasonable Suspicion                           75\n",
      "Incident to Arrest,Inventory,Probable Cause                   34\n",
      "Incident to Arrest,Protective Frisk                           33\n",
      "Probable Cause,Protective Frisk                               33\n",
      "Inventory,Probable Cause                                      22\n",
      "Incident to Arrest,Reasonable Suspicion                       13\n",
      "Inventory,Protective Frisk                                    11\n",
      "Incident to Arrest,Inventory,Protective Frisk                 11\n",
      "Protective Frisk,Reasonable Suspicion                         11\n",
      "Incident to Arrest,Probable Cause,Protective Frisk            10\n",
      "Incident to Arrest,Probable Cause,Reasonable Suspicion         6\n",
      "Incident to Arrest,Inventory,Reasonable Suspicion              4\n",
      "Inventory,Reasonable Suspicion                                 4\n",
      "Inventory,Probable Cause,Protective Frisk                      2\n",
      "Inventory,Probable Cause,Reasonable Suspicion                  2\n",
      "Incident to Arrest,Protective Frisk,Reasonable Suspicion       1\n",
      "Probable Cause,Protective Frisk,Reasonable Suspicion           1\n",
      "Name: search_type, dtype: int64\n",
      "bool\n",
      "274\n"
     ]
    }
   ],
   "source": [
    "# Count the 'search_type' values\n",
    "print(ri.search_type.value_counts())\n",
    "\n",
    "# Check if 'search_type' contains the string 'Protective Frisk'\n",
    "ri['frisk'] = ri.search_type.str.contains('Protective Frisk', na=False)\n",
    "\n",
    "# Check the data type of 'frisk'\n",
    "print(ri.frisk.dtype)\n",
    "\n",
    "# Take the sum of 'frisk'\n",
    "print(ri.frisk.sum())"
   ]
  },
  {
   "cell_type": "code",
   "execution_count": 15,
   "id": "0c1f8cbe-c6ea-4d14-8cb6-931ec1246188",
   "metadata": {
    "execution": {
     "iopub.execute_input": "2022-06-10T05:19:01.873426Z",
     "iopub.status.busy": "2022-06-10T05:19:01.873261Z",
     "iopub.status.idle": "2022-06-10T05:19:01.879938Z",
     "shell.execute_reply": "2022-06-10T05:19:01.879460Z",
     "shell.execute_reply.started": "2022-06-10T05:19:01.873402Z"
    },
    "tags": []
   },
   "outputs": [
    {
     "name": "stdout",
     "output_type": "stream",
     "text": [
      "0.08573216520650813\n",
      "driver_gender\n",
      "F    0.061571\n",
      "M    0.089908\n",
      "Name: frisk, dtype: float64\n"
     ]
    }
   ],
   "source": [
    "# Create a DataFrame of stops in which a search was conducted\n",
    "searched = ri[ri.search_conducted == True]\n",
    "\n",
    "# Calculate the overall frisk rate by taking the mean of 'frisk'\n",
    "print(searched.frisk.mean())\n",
    "\n",
    "# Calculate the frisk rate for each gender\n",
    "print(searched.groupby('driver_gender').frisk.mean())"
   ]
  },
  {
   "cell_type": "markdown",
   "id": "2f8ec1cb-4f8a-4463-a0dd-1418a576771f",
   "metadata": {},
   "source": [
    "The frisk rate is higher for males than for females, though we can't conclude that this difference is caused by the driver's gender."
   ]
  },
  {
   "cell_type": "markdown",
   "id": "143eb88c-2249-4693-aa87-8aa3305342a5",
   "metadata": {},
   "source": [
    "### Question: Does time of day affect arrest rate?"
   ]
  },
  {
   "cell_type": "code",
   "execution_count": 16,
   "id": "0be64e24-60c6-4d46-939f-e94d4bb25879",
   "metadata": {
    "execution": {
     "iopub.execute_input": "2022-06-10T05:19:01.880651Z",
     "iopub.status.busy": "2022-06-10T05:19:01.880492Z",
     "iopub.status.idle": "2022-06-10T05:19:01.897694Z",
     "shell.execute_reply": "2022-06-10T05:19:01.897258Z",
     "shell.execute_reply.started": "2022-06-10T05:19:01.880628Z"
    }
   },
   "outputs": [
    {
     "name": "stdout",
     "output_type": "stream",
     "text": [
      "0.03389810892762077\n",
      "stop_datetime\n",
      "0     0.047393\n",
      "1     0.061428\n",
      "2     0.062914\n",
      "3     0.053221\n",
      "4     0.074074\n",
      "5     0.031915\n",
      "6     0.014045\n",
      "7     0.013498\n",
      "8     0.020449\n",
      "9     0.024703\n",
      "10    0.025278\n",
      "11    0.027037\n",
      "12    0.032999\n",
      "13    0.030100\n",
      "14    0.032716\n",
      "15    0.032307\n",
      "16    0.030765\n",
      "17    0.032757\n",
      "18    0.043988\n",
      "19    0.031506\n",
      "20    0.041048\n",
      "21    0.053795\n",
      "22    0.043397\n",
      "23    0.042825\n",
      "Name: is_arrested, dtype: float64\n"
     ]
    }
   ],
   "source": [
    "# Calculate the overall arrest rate\n",
    "print(ri.is_arrested.mean())\n",
    "\n",
    "# Calculate the hourly arrest rate\n",
    "print(ri.groupby(ri.index.hour).is_arrested.mean())\n",
    "\n",
    "# Save the hourly arrest rate\n",
    "hourly_arrest_rate = ri.groupby(ri.index.hour).is_arrested.mean()"
   ]
  },
  {
   "cell_type": "code",
   "execution_count": 17,
   "id": "733f0ef7-da88-4463-b10a-e112a79f287e",
   "metadata": {
    "execution": {
     "iopub.execute_input": "2022-06-10T05:19:01.898263Z",
     "iopub.status.busy": "2022-06-10T05:19:01.898159Z",
     "iopub.status.idle": "2022-06-10T05:19:02.412813Z",
     "shell.execute_reply": "2022-06-10T05:19:02.412268Z",
     "shell.execute_reply.started": "2022-06-10T05:19:01.898248Z"
    },
    "tags": []
   },
   "outputs": [
    {
     "data": {
      "image/png": "[encoded data removed]",
      "text/plain": [
       "<Figure size 432x288 with 1 Axes>"
      ]
     },
     "metadata": {
      "needs_background": "light"
     },
     "output_type": "display_data"
    }
   ],
   "source": [
    "# Import matplotlib.pyplot as plt\n",
    "import matplotlib.pyplot as plt\n",
    "\n",
    "# Create a line plot of 'hourly_arrest_rate'\n",
    "hourly_arrest_rate.plot()\n",
    "\n",
    "# Add the xlabel, ylabel, and title\n",
    "plt.xlabel(\"Hour\")\n",
    "plt.ylabel(\"Arrest Rate\")\n",
    "plt.title('Arrest Rate by Time of Day')\n",
    "\n",
    "# Display the plot\n",
    "plt.show()"
   ]
  },
  {
   "cell_type": "markdown",
   "id": "8b6e4558-6f6f-45b8-a482-a377518a66e5",
   "metadata": {},
   "source": [
    "### Question: Are drug-related stops on the rise?"
   ]
  },
  {
   "cell_type": "code",
   "execution_count": 18,
   "id": "ad11c34e-be18-48b6-b66f-20264f29de7a",
   "metadata": {
    "execution": {
     "iopub.execute_input": "2022-06-10T05:19:02.413631Z",
     "iopub.status.busy": "2022-06-10T05:19:02.413439Z",
     "iopub.status.idle": "2022-06-10T05:19:02.554672Z",
     "shell.execute_reply": "2022-06-10T05:19:02.554049Z",
     "shell.execute_reply.started": "2022-06-10T05:19:02.413615Z"
    },
    "tags": []
   },
   "outputs": [
    {
     "name": "stdout",
     "output_type": "stream",
     "text": [
      "stop_datetime\n",
      "2005-12-31    0.007186\n",
      "2006-12-31    0.005818\n",
      "2007-12-31    0.007524\n",
      "2008-12-31    0.006993\n",
      "2009-12-31    0.011607\n",
      "2010-12-31    0.008721\n",
      "2011-12-31    0.008449\n",
      "2012-12-31    0.010870\n",
      "2013-12-31    0.011858\n",
      "2014-12-31    0.013335\n",
      "2015-12-31    0.010448\n",
      "Freq: A-DEC, Name: drugs_related_stop, dtype: float64\n"
     ]
    },
    {
     "data": {
      "image/png": "[encoded data removed]",
      "text/plain": [
       "<Figure size 432x288 with 1 Axes>"
      ]
     },
     "metadata": {
      "needs_background": "light"
     },
     "output_type": "display_data"
    }
   ],
   "source": [
    "# Calculate the annual rate of drug-related stops\n",
    "print(ri.drugs_related_stop.resample('Y').mean())\n",
    "\n",
    "# Save the annual rate of drug-related stops\n",
    "annual_drug_rate = ri.drugs_related_stop.resample('Y').mean()\n",
    "\n",
    "# Create a line plot of 'annual_drug_rate'\n",
    "annual_drug_rate.plot()\n",
    "\n",
    "# Display the plot\n",
    "plt.show()"
   ]
  },
  {
   "cell_type": "markdown",
   "id": "70834cc8-60d2-475b-9849-a48c953915cc",
   "metadata": {},
   "source": [
    "The rate of drug-related stops nearly doubled over the course of 10 years.\n",
    "Why? Are we not conducting enough searches."
   ]
  },
  {
   "cell_type": "code",
   "execution_count": 19,
   "id": "10ed52cf-388f-4ce0-a6e2-8867033707e6",
   "metadata": {
    "execution": {
     "iopub.execute_input": "2022-06-10T05:19:02.555588Z",
     "iopub.status.busy": "2022-06-10T05:19:02.555370Z",
     "iopub.status.idle": "2022-06-10T05:19:02.725821Z",
     "shell.execute_reply": "2022-06-10T05:19:02.725382Z",
     "shell.execute_reply.started": "2022-06-10T05:19:02.555571Z"
    },
    "tags": []
   },
   "outputs": [
    {
     "data": {
      "image/png": "[encoded data removed]",
      "text/plain": [
       "<Figure size 432x288 with 2 Axes>"
      ]
     },
     "metadata": {
      "needs_background": "light"
     },
     "output_type": "display_data"
    }
   ],
   "source": [
    "# Calculate and save the annual search rate\n",
    "annual_search_rate = ri.search_conducted.resample(\"A\").mean()\n",
    "\n",
    "# Concatenate 'annual_drug_rate' and 'annual_search_rate'\n",
    "annual = pd.concat([annual_drug_rate,annual_search_rate], axis=1)\n",
    "\n",
    "# Create subplots from 'annual'\n",
    "annual.plot(subplots=True)\n",
    "# Display the subplots\n",
    "plt.show()"
   ]
  },
  {
   "cell_type": "markdown",
   "id": "539d47b9-266d-4ee8-8fdf-4058c62931ec",
   "metadata": {},
   "source": [
    "The rate of drug-related stops increased even though the search rate decreased, disproving our hypothesis."
   ]
  },
  {
   "cell_type": "markdown",
   "id": "d0254914-9ad1-43ff-a0fe-325dc45a200b",
   "metadata": {},
   "source": [
    "### Question: How long might you be stopped for a violation?"
   ]
  },
  {
   "cell_type": "code",
   "execution_count": 20,
   "id": "0c8e35e0-9252-48c9-83ca-53f1347ab79b",
   "metadata": {
    "execution": {
     "iopub.execute_input": "2022-06-10T05:19:02.726533Z",
     "iopub.status.busy": "2022-06-10T05:19:02.726416Z",
     "iopub.status.idle": "2022-06-10T05:19:02.736912Z",
     "shell.execute_reply": "2022-06-10T05:19:02.736485Z",
     "shell.execute_reply.started": "2022-06-10T05:19:02.726518Z"
    },
    "tags": []
   },
   "outputs": [
    {
     "name": "stdout",
     "output_type": "stream",
     "text": [
      "['0-15 Min' '16-30 Min' '30+ Min' '2' '1']\n",
      "[ 8 23 45]\n"
     ]
    }
   ],
   "source": [
    "# Print the unique values in 'stop_duration'\n",
    "print(ri.stop_duration.unique())\n",
    "\n",
    "# Create a dictionary that maps strings to integers\n",
    "mapping = {\"1\": 8 , \"2\": 8, \"0-15 Min\":8 , '16-30 Min' : 23,'30+ Min' : 45 }\n",
    "\n",
    "# Convert the 'stop_duration' strings to integers using the 'mapping'\n",
    "ri['stop_minutes'] = ri.stop_duration.map(mapping)\n",
    "\n",
    "# Print the unique values in 'stop_minutes'\n",
    "print(ri.stop_minutes.unique())"
   ]
  },
  {
   "cell_type": "code",
   "execution_count": 21,
   "id": "1c190085-76ac-4c17-9c30-1ee67b5b6c27",
   "metadata": {
    "execution": {
     "iopub.execute_input": "2022-06-10T05:19:02.737486Z",
     "iopub.status.busy": "2022-06-10T05:19:02.737382Z",
     "iopub.status.idle": "2022-06-10T05:19:02.841316Z",
     "shell.execute_reply": "2022-06-10T05:19:02.840763Z",
     "shell.execute_reply.started": "2022-06-10T05:19:02.737472Z"
    }
   },
   "outputs": [
    {
     "name": "stdout",
     "output_type": "stream",
     "text": [
      "violation_raw\n",
      "APB                                 20.987342\n",
      "Call for Service                    22.034669\n",
      "Equipment/Inspection Violation      11.460345\n",
      "Motorist Assist/Courtesy            16.916256\n",
      "Other Traffic Violation             13.899901\n",
      "Registration Violation              13.745629\n",
      "Seatbelt Violation                   9.741531\n",
      "Special Detail/Directed Patrol      15.061100\n",
      "Speeding                            10.577743\n",
      "Suspicious Person                   18.750000\n",
      "Violation of City/Town Ordinance    13.388626\n",
      "Warrant                             21.400000\n",
      "Name: stop_minutes, dtype: float64\n"
     ]
    },
    {
     "data": {
      "image/png": "[encoded data removed]",
      "text/plain": [
       "<Figure size 432x288 with 1 Axes>"
      ]
     },
     "metadata": {
      "needs_background": "light"
     },
     "output_type": "display_data"
    }
   ],
   "source": [
    "# Calculate the mean 'stop_minutes' for each value in 'violation_raw'\n",
    "print(ri.groupby(ri.violation_raw).stop_minutes.mean())\n",
    "\n",
    "# Save the resulting Series as 'stop_length'\n",
    "stop_length = ri.groupby(ri.violation_raw).stop_minutes.mean()\n",
    "\n",
    "# Sort 'stop_length' by its values and create a horizontal bar plot\n",
    "stop_length.sort_values(ascending=True).plot(kind='barh')\n",
    "\n",
    "# Display the plot\n",
    "plt.show()"
   ]
  },
  {
   "cell_type": "markdown",
   "id": "bd9eeb2c-5d4a-40fa-b5ad-eb49a61260c5",
   "metadata": {},
   "source": [
    "### Question: What are the average Stop minutes for each violations?"
   ]
  },
  {
   "cell_type": "code",
   "execution_count": 22,
   "id": "f8c9ed87-0e5d-47e9-9228-775a0f288b53",
   "metadata": {
    "execution": {
     "iopub.execute_input": "2022-06-10T05:19:02.842469Z",
     "iopub.status.busy": "2022-06-10T05:19:02.842216Z",
     "iopub.status.idle": "2022-06-10T05:19:02.963949Z",
     "shell.execute_reply": "2022-06-10T05:19:02.963401Z",
     "shell.execute_reply.started": "2022-06-10T05:19:02.842446Z"
    },
    "tags": []
   },
   "outputs": [
    {
     "data": {
      "image/png": "[encoded data removed]",
      "text/plain": [
       "<Figure size 432x288 with 1 Axes>"
      ]
     },
     "metadata": {
      "needs_background": "light"
     },
     "output_type": "display_data"
    }
   ],
   "source": [
    "import matplotlib.pyplot as plt\n",
    "%matplotlib inline\n",
    "ri.groupby('violation').stop_minutes.mean().sort_values().plot(kind='bar')\n",
    "plt.ylabel(\"Minutes Stopped (In Minutes)\")\n",
    "plt.title(\"Avg stop minutes for each violations\")\n",
    "plt.show()"
   ]
  },
  {
   "cell_type": "markdown",
   "id": "766d9f47-220f-4430-8bcd-ff74a0228076",
   "metadata": {},
   "source": [
    "### Question: Is there any relationship between age and violations?"
   ]
  },
  {
   "cell_type": "code",
   "execution_count": 23,
   "id": "9b6dcf30-fbbc-462e-aa9d-f19b89f5435e",
   "metadata": {
    "execution": {
     "iopub.execute_input": "2022-06-10T05:19:02.964886Z",
     "iopub.status.busy": "2022-06-10T05:19:02.964726Z",
     "iopub.status.idle": "2022-06-10T05:19:02.968682Z",
     "shell.execute_reply": "2022-06-10T05:19:02.968136Z",
     "shell.execute_reply.started": "2022-06-10T05:19:02.964863Z"
    }
   },
   "outputs": [
    {
     "data": {
      "text/plain": [
       "Index(['stop_date', 'stop_time', 'driver_gender', 'driver_age_raw',\n",
       "       'driver_age', 'driver_race', 'violation_raw', 'violation',\n",
       "       'search_conducted', 'search_type', 'stop_outcome', 'is_arrested',\n",
       "       'stop_duration', 'drugs_related_stop', 'frisk', 'stop_minutes'],\n",
       "      dtype='object')"
      ]
     },
     "execution_count": 23,
     "metadata": {},
     "output_type": "execute_result"
    }
   ],
   "source": [
    "ri.columns"
   ]
  },
  {
   "cell_type": "code",
   "execution_count": 24,
   "id": "8392652e-2680-4827-9321-3c011d212132",
   "metadata": {
    "execution": {
     "iopub.execute_input": "2022-06-10T05:19:02.969705Z",
     "iopub.status.busy": "2022-06-10T05:19:02.969506Z",
     "iopub.status.idle": "2022-06-10T05:19:02.980280Z",
     "shell.execute_reply": "2022-06-10T05:19:02.979803Z",
     "shell.execute_reply.started": "2022-06-10T05:19:02.969682Z"
    }
   },
   "outputs": [
    {
     "data": {
      "text/plain": [
       "count    86113.000000\n",
       "mean        34.011868\n",
       "std         12.738786\n",
       "min         15.000000\n",
       "25%         23.000000\n",
       "50%         31.000000\n",
       "75%         43.000000\n",
       "max         99.000000\n",
       "Name: driver_age, dtype: float64"
      ]
     },
     "execution_count": 24,
     "metadata": {},
     "output_type": "execute_result"
    }
   ],
   "source": [
    "# Verifying/Authenticating Age provided:\n",
    "ri.driver_age.describe()\n",
    "# ri[calculated_age]=ri.stop_datetime.dt.year - ri.driver_age"
   ]
  },
  {
   "cell_type": "markdown",
   "id": "66a86677-0d20-4977-8096-1ee0e24c75ca",
   "metadata": {},
   "source": [
    "It seems the data is authentic as max and min are acceptable ages"
   ]
  },
  {
   "cell_type": "code",
   "execution_count": 25,
   "id": "2401a353-3ce5-4008-aba1-6229356523c7",
   "metadata": {
    "execution": {
     "iopub.execute_input": "2022-06-10T05:19:02.981107Z",
     "iopub.status.busy": "2022-06-10T05:19:02.980947Z",
     "iopub.status.idle": "2022-06-10T05:19:03.374732Z",
     "shell.execute_reply": "2022-06-10T05:19:03.374139Z",
     "shell.execute_reply.started": "2022-06-10T05:19:02.981085Z"
    },
    "tags": []
   },
   "outputs": [
    {
     "data": {
      "text/plain": [
       "array([[<AxesSubplot:title={'center':'Equipment'}>,\n",
       "        <AxesSubplot:title={'center':'Moving violation'}>],\n",
       "       [<AxesSubplot:title={'center':'Other'}>,\n",
       "        <AxesSubplot:title={'center':'Registration/plates'}>],\n",
       "       [<AxesSubplot:title={'center':'Seat belt'}>,\n",
       "        <AxesSubplot:title={'center':'Speeding'}>]], dtype=object)"
      ]
     },
     "execution_count": 25,
     "metadata": {},
     "output_type": "execute_result"
    },
    {
     "data": {
      "image/png": "[encoded data removed]",
      "text/plain": [
       "<Figure size 432x288 with 6 Axes>"
      ]
     },
     "metadata": {
      "needs_background": "light"
     },
     "output_type": "display_data"
    }
   ],
   "source": [
    "# We have to use shareX and shareY so we get same scal for all graph so it is more visually comparible/comprehensible.\n",
    "ri.hist('driver_age', by='violation', sharex=True, sharey=True)\n",
    "# plt.yscale('log')"
   ]
  },
  {
   "cell_type": "code",
   "execution_count": 26,
   "id": "765975d6-464a-43e0-9e10-b00e54318277",
   "metadata": {
    "execution": {
     "iopub.execute_input": "2022-06-10T05:19:03.375715Z",
     "iopub.status.busy": "2022-06-10T05:19:03.375521Z",
     "iopub.status.idle": "2022-06-10T05:19:03.459291Z",
     "shell.execute_reply": "2022-06-10T05:19:03.458796Z",
     "shell.execute_reply.started": "2022-06-10T05:19:03.375692Z"
    },
    "tags": []
   },
   "outputs": [
    {
     "data": {
      "image/png": "[encoded data removed]",
      "text/plain": [
       "<Figure size 432x288 with 1 Axes>"
      ]
     },
     "metadata": {
      "needs_background": "light"
     },
     "output_type": "display_data"
    }
   ],
   "source": [
    "ri.driver_age.hist()\n",
    "plt.title(\"Number of Data point with given Driver Age\")\n",
    "plt.xlabel(\"Age (Years)\")\n",
    "plt.ylabel(\"No of data points\")\n",
    "plt.show()"
   ]
  },
  {
   "cell_type": "markdown",
   "id": "71743a03-a56d-43d8-a9f1-a443e447f453",
   "metadata": {},
   "source": [
    "As you can see from previous graph that thare for age 25-30 years have been having these violations in the most cases. However, we can't conclude that age is causing the violation as the collected data is having inclination toward that age range as per graph shown above."
   ]
  },
  {
   "cell_type": "code",
   "execution_count": null,
   "id": "a2bec09c-f8e9-401b-8567-f6b43590a36b",
   "metadata": {},
   "outputs": [],
   "source": []
  },
  {
   "cell_type": "markdown",
   "id": "d42baac9-31d0-47a0-9648-902062b65e82",
   "metadata": {},
   "source": [
    "## Now we are checking if the weather affects the behaviour in police activity"
   ]
  },
  {
   "cell_type": "code",
   "execution_count": 27,
   "id": "8698c49a-0c77-43f6-a841-1d1f0839faf1",
   "metadata": {
    "execution": {
     "iopub.execute_input": "2022-06-10T05:19:03.460270Z",
     "iopub.status.busy": "2022-06-10T05:19:03.460079Z",
     "iopub.status.idle": "2022-06-10T05:19:03.544439Z",
     "shell.execute_reply": "2022-06-10T05:19:03.543949Z",
     "shell.execute_reply.started": "2022-06-10T05:19:03.460248Z"
    },
    "tags": []
   },
   "outputs": [
    {
     "name": "stdout",
     "output_type": "stream",
     "text": [
      "              TMIN         TAVG         TMAX\n",
      "count  4017.000000  1217.000000  4017.000000\n",
      "mean     43.484441    52.493016    61.268608\n",
      "std      17.020298    17.830714    18.199517\n",
      "min      -5.000000     6.000000    15.000000\n",
      "25%      30.000000    39.000000    47.000000\n",
      "50%      44.000000    54.000000    62.000000\n",
      "75%      58.000000    68.000000    77.000000\n",
      "max      77.000000    86.000000   102.000000\n"
     ]
    },
    {
     "data": {
      "image/png": "[encoded data removed]",
      "text/plain": [
       "<Figure size 432x288 with 1 Axes>"
      ]
     },
     "metadata": {
      "needs_background": "light"
     },
     "output_type": "display_data"
    }
   ],
   "source": [
    "# Read 'weather.csv' into a DataFrame named 'weather'\n",
    "import pandas as pd\n",
    "weather=pd.read_csv('weather.csv')\n",
    "\n",
    "# Describe the temperature columns\n",
    "print(weather[['TMIN', 'TAVG', 'TMAX']].describe())\n",
    "\n",
    "# Create a box plot of the temperature columns\n",
    "weather[['TMIN', 'TAVG', 'TMAX']].plot(kind='box')\n",
    "\n",
    "# Display the plot\n",
    "plt.show()"
   ]
  },
  {
   "cell_type": "markdown",
   "id": "d3f58b47-fc2c-47ac-a7fa-e6ac240964c8",
   "metadata": {},
   "source": [
    "First we are identifying that the data is trustworthy by checking:\n",
    "\n",
    "    1: If the max is greater than mean and min is less than mean\n",
    "    \n",
    "    2: Columns have Appropriate values like non-negative or unexpected values\n",
    "    \n",
    "    3: Distribution of general parameter ( where we have assumption on valriable's population distribution )"
   ]
  },
  {
   "cell_type": "code",
   "execution_count": 28,
   "id": "31be86a2-0906-403f-833a-86d9ce5477d6",
   "metadata": {
    "execution": {
     "iopub.execute_input": "2022-06-10T05:19:03.545264Z",
     "iopub.status.busy": "2022-06-10T05:19:03.545104Z",
     "iopub.status.idle": "2022-06-10T05:19:03.636333Z",
     "shell.execute_reply": "2022-06-10T05:19:03.635837Z",
     "shell.execute_reply.started": "2022-06-10T05:19:03.545242Z"
    }
   },
   "outputs": [
    {
     "name": "stdout",
     "output_type": "stream",
     "text": [
      "count    4017.000000\n",
      "mean       17.784167\n",
      "std         6.350720\n",
      "min         2.000000\n",
      "25%        14.000000\n",
      "50%        18.000000\n",
      "75%        22.000000\n",
      "max        43.000000\n",
      "Name: TDIFF, dtype: float64\n"
     ]
    },
    {
     "data": {
      "image/png": "[encoded data removed]",
      "text/plain": [
       "<Figure size 432x288 with 1 Axes>"
      ]
     },
     "metadata": {
      "needs_background": "light"
     },
     "output_type": "display_data"
    }
   ],
   "source": [
    "# Create a 'TDIFF' column that represents temperature difference\n",
    "weather['TDIFF']=weather['TMAX']-weather['TMIN']\n",
    "\n",
    "# Describe the 'TDIFF' column\n",
    "print(weather.TDIFF.describe())\n",
    "\n",
    "# Create a histogram with 20 bins to visualize 'TDIFF'\n",
    "weather.TDIFF.plot(kind='hist',bins=20)\n",
    "\n",
    "# Display the plot\n",
    "plt.show()"
   ]
  },
  {
   "cell_type": "markdown",
   "id": "b6028d2d-3b89-4951-ae64-f3aa4c6664a2",
   "metadata": {},
   "source": [
    "The TDIFF column has no negative values and its distribution is approximately normal, both of which are signs that the data is trustworthy."
   ]
  },
  {
   "cell_type": "code",
   "execution_count": 29,
   "id": "e6421051-cdb1-46a0-b170-713235cad6e7",
   "metadata": {
    "execution": {
     "iopub.execute_input": "2022-06-10T05:19:03.637193Z",
     "iopub.status.busy": "2022-06-10T05:19:03.637030Z",
     "iopub.status.idle": "2022-06-10T05:19:03.720776Z",
     "shell.execute_reply": "2022-06-10T05:19:03.720359Z",
     "shell.execute_reply.started": "2022-06-10T05:19:03.637171Z"
    }
   },
   "outputs": [
    {
     "data": {
      "image/png": "[encoded data removed]",
      "text/plain": [
       "<Figure size 432x288 with 1 Axes>"
      ]
     },
     "metadata": {
      "needs_background": "light"
     },
     "output_type": "display_data"
    }
   ],
   "source": [
    "# Copy 'WT01' through 'WT22' to a new DataFrame\n",
    "WT = weather.loc[:,'WT01' : 'WT22']\n",
    "\n",
    "# Calculate the sum of each row in 'WT'\n",
    "weather['bad_conditions'] = WT.sum(axis='columns')\n",
    "\n",
    "# Replace missing values in 'bad_conditions' with '0'\n",
    "weather['bad_conditions'] = weather.bad_conditions.fillna(0).astype('int')\n",
    "\n",
    "# Create a histogram to visualize 'bad_conditions'\n",
    "weather['bad_conditions'].plot(kind='hist')\n",
    "\n",
    "# Display the plot\n",
    "plt.show()"
   ]
  },
  {
   "cell_type": "markdown",
   "id": "ee879d2d-c43f-4034-8ae6-5c0179fe7edd",
   "metadata": {},
   "source": [
    "It looks like many days didn't have any bad weather conditions, and only a small portion of days had more than four bad weather conditions."
   ]
  },
  {
   "cell_type": "code",
   "execution_count": 30,
   "id": "b6e02e11-9fb7-4a46-a548-55d67e383ea0",
   "metadata": {
    "execution": {
     "iopub.execute_input": "2022-06-10T05:19:03.721457Z",
     "iopub.status.busy": "2022-06-10T05:19:03.721353Z",
     "iopub.status.idle": "2022-06-10T05:19:03.727049Z",
     "shell.execute_reply": "2022-06-10T05:19:03.726667Z",
     "shell.execute_reply.started": "2022-06-10T05:19:03.721442Z"
    },
    "tags": []
   },
   "outputs": [
    {
     "name": "stdout",
     "output_type": "stream",
     "text": [
      "0    1749\n",
      "1     613\n",
      "2     367\n",
      "3     380\n",
      "4     476\n",
      "5     282\n",
      "6     101\n",
      "7      41\n",
      "8       4\n",
      "9       4\n",
      "Name: bad_conditions, dtype: int64\n",
      "bad      1836\n",
      "good     1749\n",
      "worse     432\n",
      "Name: rating, dtype: int64\n"
     ]
    }
   ],
   "source": [
    "# Count the unique values in 'bad_conditions' and sort the index\n",
    "print(weather.bad_conditions.value_counts().sort_index())\n",
    "\n",
    "# Create a dictionary that maps integers to strings\n",
    "mapping = {0:'good', 1:'bad', 2:'bad', 3:'bad', 4:'bad', 5:'worse', 6:'worse', 7:'worse' , 8:'worse' ,9:'worse' }\n",
    "\n",
    "# Convert the 'bad_conditions' integers to strings using the 'mapping'\n",
    "weather['rating'] = weather.bad_conditions.map(mapping)\n",
    "\n",
    "# Count the unique values in 'rating'\n",
    "print(weather.rating.value_counts())"
   ]
  },
  {
   "cell_type": "markdown",
   "id": "59a0d331-4762-4f92-b700-8a7bee5f561d",
   "metadata": {},
   "source": [
    "This rating system should make the weather condition data easier to understand."
   ]
  },
  {
   "cell_type": "code",
   "execution_count": 31,
   "id": "74d4ca5b-6c9d-4a63-bd4c-efd2dd3df817",
   "metadata": {
    "execution": {
     "iopub.execute_input": "2022-06-10T05:19:03.727673Z",
     "iopub.status.busy": "2022-06-10T05:19:03.727534Z",
     "iopub.status.idle": "2022-06-10T05:19:03.732171Z",
     "shell.execute_reply": "2022-06-10T05:19:03.731858Z",
     "shell.execute_reply.started": "2022-06-10T05:19:03.727645Z"
    }
   },
   "outputs": [
    {
     "name": "stdout",
     "output_type": "stream",
     "text": [
      "0    bad\n",
      "1    bad\n",
      "2    bad\n",
      "3    bad\n",
      "4    bad\n",
      "Name: rating, dtype: category\n",
      "Categories (3, object): ['good' < 'bad' < 'worse']\n"
     ]
    }
   ],
   "source": [
    "# Specify the logical order of the weather ratings\n",
    "cats = pd.CategoricalDtype(['good','bad','worse'], ordered=True)\n",
    "\n",
    "# Change the data type of 'rating' to category\n",
    "weather['rating'] = weather.rating.astype(cats)\n",
    "\n",
    "# Examine the head of 'rating'\n",
    "print(weather.rating.head())"
   ]
  },
  {
   "cell_type": "code",
   "execution_count": 32,
   "id": "bd008738-0958-40eb-8d0d-1610e60eee4c",
   "metadata": {
    "execution": {
     "iopub.execute_input": "2022-06-10T05:19:03.732902Z",
     "iopub.status.busy": "2022-06-10T05:19:03.732749Z",
     "iopub.status.idle": "2022-06-10T05:19:03.741542Z",
     "shell.execute_reply": "2022-06-10T05:19:03.741148Z",
     "shell.execute_reply.started": "2022-06-10T05:19:03.732888Z"
    }
   },
   "outputs": [
    {
     "name": "stdout",
     "output_type": "stream",
     "text": [
      "        stop_datetime   stop_date stop_time driver_gender  driver_age_raw  \\\n",
      "0 2005-01-02 01:55:00  2005-01-02     01:55             M          1985.0   \n",
      "1 2005-01-18 08:15:00  2005-01-18     08:15             M          1965.0   \n",
      "2 2005-01-23 23:15:00  2005-01-23     23:15             M          1972.0   \n",
      "3 2005-02-20 17:15:00  2005-02-20     17:15             M          1986.0   \n",
      "4 2005-03-14 10:00:00  2005-03-14     10:00             F          1984.0   \n",
      "\n",
      "   driver_age driver_race     violation_raw violation  search_conducted  \\\n",
      "0        20.0       White          Speeding  Speeding             False   \n",
      "1        40.0       White          Speeding  Speeding             False   \n",
      "2        33.0       White          Speeding  Speeding             False   \n",
      "3        19.0       White  Call for Service     Other             False   \n",
      "4        21.0       White          Speeding  Speeding             False   \n",
      "\n",
      "  search_type   stop_outcome  is_arrested stop_duration  drugs_related_stop  \\\n",
      "0         NaN       Citation        False      0-15 Min               False   \n",
      "1         NaN       Citation        False      0-15 Min               False   \n",
      "2         NaN       Citation        False      0-15 Min               False   \n",
      "3         NaN  Arrest Driver         True     16-30 Min               False   \n",
      "4         NaN       Citation        False      0-15 Min               False   \n",
      "\n",
      "   frisk  stop_minutes  \n",
      "0  False             8  \n",
      "1  False             8  \n",
      "2  False             8  \n",
      "3  False            23  \n",
      "4  False             8  \n",
      "         DATE rating\n",
      "0  2005-01-01    bad\n",
      "1  2005-01-02    bad\n",
      "2  2005-01-03    bad\n",
      "3  2005-01-04    bad\n",
      "4  2005-01-05    bad\n"
     ]
    }
   ],
   "source": [
    "# Reset the index of 'ri'\n",
    "ri.reset_index(inplace=True)\n",
    "\n",
    "# Examine the head of 'ri'\n",
    "print(ri.head())\n",
    "\n",
    "# Create a DataFrame from the 'DATE' and 'rating' columns\n",
    "weather_rating=weather[['DATE','rating']]\n",
    "\n",
    "# Examine the head of 'weather_rating'\n",
    "print(weather_rating.head())"
   ]
  },
  {
   "cell_type": "code",
   "execution_count": 33,
   "id": "f4289a20-4ba3-413d-895a-2608da7429ec",
   "metadata": {
    "execution": {
     "iopub.execute_input": "2022-06-10T05:19:03.742196Z",
     "iopub.status.busy": "2022-06-10T05:19:03.742095Z",
     "iopub.status.idle": "2022-06-10T05:19:03.759738Z",
     "shell.execute_reply": "2022-06-10T05:19:03.759284Z",
     "shell.execute_reply.started": "2022-06-10T05:19:03.742182Z"
    }
   },
   "outputs": [
    {
     "name": "stdout",
     "output_type": "stream",
     "text": [
      "(86406, 17)\n",
      "(86406, 19)\n"
     ]
    }
   ],
   "source": [
    "# Examine the shape of 'ri'\n",
    "print(ri.shape)\n",
    "\n",
    "# Merge 'ri' and 'weather_rating' using a left join\n",
    "ri_weather = pd.merge(left=ri, right=weather_rating, left_on='stop_date', right_on='DATE', how='left')\n",
    "\n",
    "# Examine the shape of 'ri_weather'\n",
    "print(ri_weather.shape)\n",
    "\n",
    "# Set 'stop_datetime' as the index of 'ri_weather'\n",
    "ri_weather.set_index('stop_datetime', inplace=True)"
   ]
  },
  {
   "cell_type": "code",
   "execution_count": 34,
   "id": "20cf1276-188d-40d4-8a42-13e5dbd6e1ff",
   "metadata": {
    "execution": {
     "iopub.execute_input": "2022-06-10T05:19:03.760394Z",
     "iopub.status.busy": "2022-06-10T05:19:03.760286Z",
     "iopub.status.idle": "2022-06-10T05:19:03.769948Z",
     "shell.execute_reply": "2022-06-10T05:19:03.769522Z",
     "shell.execute_reply.started": "2022-06-10T05:19:03.760379Z"
    }
   },
   "outputs": [
    {
     "name": "stdout",
     "output_type": "stream",
     "text": [
      "violation            rating\n",
      "Equipment            good      0.051874\n",
      "                     bad       0.058137\n",
      "                     worse     0.098385\n",
      "Moving violation     good      0.056034\n",
      "                     bad       0.054080\n",
      "                     worse     0.066807\n",
      "Other                good      0.080735\n",
      "                     bad       0.085547\n",
      "                     worse     0.051643\n",
      "Registration/plates  good      0.085227\n",
      "                     bad       0.110013\n",
      "                     worse     0.096970\n",
      "Seat belt            good      0.028602\n",
      "                     bad       0.019196\n",
      "                     worse     0.000000\n",
      "Speeding             good      0.012606\n",
      "                     bad       0.013237\n",
      "                     worse     0.015361\n",
      "Name: is_arrested, dtype: float64\n"
     ]
    }
   ],
   "source": [
    "print(ri_weather.groupby(['violation','rating']).is_arrested.mean())"
   ]
  },
  {
   "cell_type": "markdown",
   "id": "ba1b4210-190a-4d04-9051-e450bb8735e2",
   "metadata": {},
   "source": [
    "The arrest rate increases as the weather gets worse, and that trend persists across many of the violation types. This doesn't prove a causal link, but it's quite an interesting result!"
   ]
  },
  {
   "cell_type": "code",
   "execution_count": 35,
   "id": "74b20858-fe9b-44f8-9f07-8a5bdc3f9336",
   "metadata": {
    "execution": {
     "iopub.execute_input": "2022-06-10T05:19:03.770532Z",
     "iopub.status.busy": "2022-06-10T05:19:03.770426Z",
     "iopub.status.idle": "2022-06-10T05:19:03.783131Z",
     "shell.execute_reply": "2022-06-10T05:19:03.782595Z",
     "shell.execute_reply.started": "2022-06-10T05:19:03.770517Z"
    }
   },
   "outputs": [
    {
     "name": "stdout",
     "output_type": "stream",
     "text": [
      "violation            rating\n",
      "Equipment            good      0.051874\n",
      "                     bad       0.058137\n",
      "                     worse     0.098385\n",
      "Moving violation     good      0.056034\n",
      "                     bad       0.054080\n",
      "                     worse     0.066807\n",
      "Other                good      0.080735\n",
      "                     bad       0.085547\n",
      "                     worse     0.051643\n",
      "Registration/plates  good      0.085227\n",
      "                     bad       0.110013\n",
      "                     worse     0.096970\n",
      "Seat belt            good      0.028602\n",
      "                     bad       0.019196\n",
      "                     worse     0.000000\n",
      "Speeding             good      0.012606\n",
      "                     bad       0.013237\n",
      "                     worse     0.015361\n",
      "Name: is_arrested, dtype: float64\n",
      "0.054079696394686905\n",
      "rating\n",
      "good     0.012606\n",
      "bad      0.013237\n",
      "worse    0.015361\n",
      "Name: is_arrested, dtype: float64\n"
     ]
    }
   ],
   "source": [
    "# Save the output of the groupby operation from the last exercise\n",
    "arrest_rate = ri_weather.groupby(['violation', 'rating']).is_arrested.mean()\n",
    "\n",
    "# Print the 'arrest_rate' Series\n",
    "print(arrest_rate)\n",
    "\n",
    "# Print the arrest rate for moving violations in bad weather\n",
    "print(arrest_rate.loc[ 'Moving violation' , 'bad' ])\n",
    "\n",
    "# Print the arrest rates for speeding violations in all three weather conditions\n",
    "print(arrest_rate.loc['Speeding'])"
   ]
  },
  {
   "cell_type": "markdown",
   "id": "56fa799c-1abc-408d-9661-2cc7099649c2",
   "metadata": {},
   "source": [
    "### Question: Search conducted have anything to do with driver Race?"
   ]
  },
  {
   "cell_type": "code",
   "execution_count": 36,
   "id": "55e092c2-8780-4613-951d-07608d652440",
   "metadata": {
    "execution": {
     "iopub.execute_input": "2022-06-10T05:19:03.783748Z",
     "iopub.status.busy": "2022-06-10T05:19:03.783638Z",
     "iopub.status.idle": "2022-06-10T05:19:03.786831Z",
     "shell.execute_reply": "2022-06-10T05:19:03.786503Z",
     "shell.execute_reply.started": "2022-06-10T05:19:03.783733Z"
    }
   },
   "outputs": [
    {
     "data": {
      "text/plain": [
       "Index(['stop_datetime', 'stop_date', 'stop_time', 'driver_gender',\n",
       "       'driver_age_raw', 'driver_age', 'driver_race', 'violation_raw',\n",
       "       'violation', 'search_conducted', 'search_type', 'stop_outcome',\n",
       "       'is_arrested', 'stop_duration', 'drugs_related_stop', 'frisk',\n",
       "       'stop_minutes'],\n",
       "      dtype='object')"
      ]
     },
     "execution_count": 36,
     "metadata": {},
     "output_type": "execute_result"
    }
   ],
   "source": [
    "ri.columns"
   ]
  },
  {
   "cell_type": "code",
   "execution_count": 37,
   "id": "ceba71a7-49dc-45f9-a90d-30edb262f1fc",
   "metadata": {
    "execution": {
     "iopub.execute_input": "2022-06-10T05:19:03.787484Z",
     "iopub.status.busy": "2022-06-10T05:19:03.787385Z",
     "iopub.status.idle": "2022-06-10T05:19:03.794234Z",
     "shell.execute_reply": "2022-06-10T05:19:03.793954Z",
     "shell.execute_reply.started": "2022-06-10T05:19:03.787470Z"
    },
    "tags": []
   },
   "outputs": [
    {
     "data": {
      "text/plain": [
       "driver_race\n",
       "Asian         51\n",
       "Black        790\n",
       "Hispanic     584\n",
       "Other          3\n",
       "White       1768\n",
       "Name: search_conducted, dtype: int64"
      ]
     },
     "execution_count": 37,
     "metadata": {},
     "output_type": "execute_result"
    }
   ],
   "source": [
    "# Overall driver race searched count\n",
    "ri.groupby(ri.driver_race).search_conducted.sum()"
   ]
  },
  {
   "cell_type": "code",
   "execution_count": 38,
   "id": "4e58b36e-29ef-4f1e-8f45-ab2c87b68774",
   "metadata": {
    "execution": {
     "iopub.execute_input": "2022-06-10T05:19:03.794773Z",
     "iopub.status.busy": "2022-06-10T05:19:03.794667Z",
     "iopub.status.idle": "2022-06-10T05:19:03.801987Z",
     "shell.execute_reply": "2022-06-10T05:19:03.801650Z",
     "shell.execute_reply.started": "2022-06-10T05:19:03.794759Z"
    },
    "tags": []
   },
   "outputs": [
    {
     "data": {
      "text/plain": [
       "driver_race\n",
       "Asian         41\n",
       "Black        705\n",
       "Hispanic     566\n",
       "Other          2\n",
       "White       1615\n",
       "Name: is_arrested, dtype: int64"
      ]
     },
     "execution_count": 38,
     "metadata": {},
     "output_type": "execute_result"
    }
   ],
   "source": [
    "# Let's check arrest rate in comparison as well\n",
    "ri.groupby(ri.driver_race).is_arrested.sum()"
   ]
  },
  {
   "cell_type": "code",
   "execution_count": 39,
   "id": "b1a3d7a2-c469-45f7-8f94-50239fdbbb13",
   "metadata": {
    "execution": {
     "iopub.execute_input": "2022-06-10T05:19:03.802540Z",
     "iopub.status.busy": "2022-06-10T05:19:03.802437Z",
     "iopub.status.idle": "2022-06-10T05:19:03.877891Z",
     "shell.execute_reply": "2022-06-10T05:19:03.877501Z",
     "shell.execute_reply.started": "2022-06-10T05:19:03.802525Z"
    },
    "tags": []
   },
   "outputs": [],
   "source": [
    "asian_searched = ri[ri.driver_race=='Asian'].groupby([ri.stop_datetime.dt.month]).search_conducted.sum()\n",
    "black_searched = ri[ri.driver_race=='Black'].groupby([ri.stop_datetime.dt.month]).search_conducted.sum()\n",
    "hispanic_searched = ri[ri.driver_race=='Hispanic'].groupby([ri.stop_datetime.dt.month]).search_conducted.sum()\n",
    "white_searched = ri[ri.driver_race=='White'].groupby([ri.stop_datetime.dt.month]).search_conducted.sum()\n",
    "other_searched = ri[ri.driver_race=='Other'].groupby([ri.stop_datetime.dt.month]).search_conducted.sum()\n"
   ]
  },
  {
   "cell_type": "code",
   "execution_count": 40,
   "id": "d85a37fb-3d96-492e-8b4e-ed150d658b1c",
   "metadata": {
    "execution": {
     "iopub.execute_input": "2022-06-10T05:19:03.880047Z",
     "iopub.status.busy": "2022-06-10T05:19:03.879907Z",
     "iopub.status.idle": "2022-06-10T05:19:04.023696Z",
     "shell.execute_reply": "2022-06-10T05:19:04.023343Z",
     "shell.execute_reply.started": "2022-06-10T05:19:03.880031Z"
    },
    "tags": []
   },
   "outputs": [
    {
     "data": {
      "image/png": "[encoded data removed]",
      "text/plain": [
       "<Figure size 432x288 with 1 Axes>"
      ]
     },
     "metadata": {
      "needs_background": "light"
     },
     "output_type": "display_data"
    }
   ],
   "source": [
    "asian_searched.plot(color='r',label='Asian')\n",
    "black_searched.plot(color='k',label='Black')\n",
    "hispanic_searched.plot(color='y',label='Hispanic')\n",
    "white_searched.plot(color='m',label='White')\n",
    "other_searched.plot(color='b',label='Others')\n",
    "plt.title(\"Search Conducted for each Driver Races\")\n",
    "plt.ylabel(\"No of Search Conducted\")\n",
    "plt.xlabel(\"Time\")\n",
    "plt.legend()\n",
    "plt.show()"
   ]
  },
  {
   "cell_type": "code",
   "execution_count": 41,
   "id": "3de142f6-a32c-4793-9c0e-624b260c831f",
   "metadata": {
    "execution": {
     "iopub.execute_input": "2022-06-10T05:19:04.024442Z",
     "iopub.status.busy": "2022-06-10T05:19:04.024323Z",
     "iopub.status.idle": "2022-06-10T05:19:04.047281Z",
     "shell.execute_reply": "2022-06-10T05:19:04.046742Z",
     "shell.execute_reply.started": "2022-06-10T05:19:04.024426Z"
    },
    "tags": []
   },
   "outputs": [
    {
     "name": "stdout",
     "output_type": "stream",
     "text": [
      "stop_datetime  driver_race\n",
      "1              Asian            5\n",
      "               Black           80\n",
      "               Hispanic        46\n",
      "               Other            0\n",
      "               White          192\n",
      "2              Asian            6\n",
      "               Black           54\n",
      "               Hispanic        41\n",
      "               Other            0\n",
      "               White          165\n",
      "3              Asian            5\n",
      "               Black           64\n",
      "               Hispanic        54\n",
      "               Other            0\n",
      "               White          160\n",
      "4              Asian            5\n",
      "               Black           52\n",
      "               Hispanic        59\n",
      "               Other            0\n",
      "               White          157\n",
      "5              Asian            5\n",
      "               Black           65\n",
      "               Hispanic        60\n",
      "               Other            0\n",
      "               White          143\n",
      "6              Asian           11\n",
      "               Black           63\n",
      "               Hispanic        48\n",
      "               Other            0\n",
      "               White          138\n",
      "7              Asian            5\n",
      "               Black           88\n",
      "               Hispanic        58\n",
      "               Other            2\n",
      "               White          162\n",
      "8              Asian            6\n",
      "               Black           55\n",
      "               Hispanic        56\n",
      "               Other            0\n",
      "               White          113\n",
      "9              Asian            1\n",
      "               Black           62\n",
      "               Hispanic        45\n",
      "               Other            1\n",
      "               White          111\n",
      "10             Asian            1\n",
      "               Black           62\n",
      "               Hispanic        48\n",
      "               Other            0\n",
      "               White          143\n",
      "11             Asian            0\n",
      "               Black           69\n",
      "               Hispanic        27\n",
      "               Other            0\n",
      "               White          162\n",
      "12             Asian            1\n",
      "               Black           76\n",
      "               Hispanic        42\n",
      "               Other            0\n",
      "               White          122\n",
      "Name: search_conducted, dtype: int64\n",
      "<class 'pandas.core.series.Series'>\n",
      "driver_race    Asian  Black  Hispanic  Other  White\n",
      "stop_datetime                                      \n",
      "1                  5     80        46      0    192\n",
      "2                  6     54        41      0    165\n",
      "3                  5     64        54      0    160\n",
      "4                  5     52        59      0    157\n",
      "5                  5     65        60      0    143\n",
      "6                 11     63        48      0    138\n",
      "7                  5     88        58      2    162\n",
      "8                  6     55        56      0    113\n",
      "9                  1     62        45      1    111\n",
      "10                 1     62        48      0    143\n",
      "11                 0     69        27      0    162\n",
      "12                 1     76        42      0    122\n",
      "<class 'pandas.core.frame.DataFrame'>\n",
      "Index(['Asian', 'Black', 'Hispanic', 'Other', 'White'], dtype='object', name='driver_race')\n"
     ]
    }
   ],
   "source": [
    "search_conducted_by_race=ri.groupby([ri.stop_datetime.dt.month,ri.driver_race]).search_conducted.sum()\n",
    "print(search_conducted_by_race)\n",
    "\n",
    "print(type(search_conducted_by_race))\n",
    "print(search_conducted_by_race.unstack())\n",
    "print(type(search_conducted_by_race.unstack()))\n",
    "print(search_conducted_by_race.unstack().columns)\n"
   ]
  },
  {
   "cell_type": "code",
   "execution_count": null,
   "id": "8910335a-a596-432f-ab87-32ee5e2c919b",
   "metadata": {},
   "outputs": [],
   "source": []
  }
 ],
 "metadata": {
  "kernelspec": {
   "display_name": "Python 3 (ipykernel)",
   "language": "python",
   "name": "python3"
  },
  "language_info": {
   "codemirror_mode": {
    "name": "ipython",
    "version": 3
   },
   "file_extension": ".py",
   "mimetype": "text/x-python",
   "name": "python",
   "nbconvert_exporter": "python",
   "pygments_lexer": "ipython3",
   "version": "3.9.12"
  }
 },
 "nbformat": 4,
 "nbformat_minor": 5
}
